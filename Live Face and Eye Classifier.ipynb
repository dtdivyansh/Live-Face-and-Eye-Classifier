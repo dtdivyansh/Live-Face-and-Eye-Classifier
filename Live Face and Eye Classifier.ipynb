{
 "cells": [
  {
   "cell_type": "markdown",
   "metadata": {},
   "source": [
    "# LIVE FACE AND EYE CLASSIFIER"
   ]
  },
  {
   "cell_type": "markdown",
   "metadata": {},
   "source": [
    "***This is a Face and Eye Classification model by using Transfer Learning approach. Here I have Used Haar Cascade Classifier.***\n",
    "\n",
    "***This model will detect face and eye position on live video and classify them with rectangles and circles respectively.***"
   ]
  },
  {
   "cell_type": "markdown",
   "metadata": {},
   "source": [
    "### IMPORTING openCV"
   ]
  },
  {
   "cell_type": "code",
   "execution_count": 11,
   "metadata": {},
   "outputs": [],
   "source": [
    "import cv2 as cv"
   ]
  },
  {
   "cell_type": "markdown",
   "metadata": {},
   "source": [
    "### IMPORTING HAAR CASCADE CLASSIFIERS"
   ]
  },
  {
   "cell_type": "code",
   "execution_count": 12,
   "metadata": {},
   "outputs": [],
   "source": [
    "cascade = cv.CascadeClassifier('D:/CC/haarcascade_frontalface_default.xml')\n",
    "eye_cascade = cv.CascadeClassifier('D:/CC/haarcascade_eye.xml')"
   ]
  },
  {
   "cell_type": "markdown",
   "metadata": {},
   "source": [
    "###  CREATING OBJECT TO ACCESS CAM"
   ]
  },
  {
   "cell_type": "code",
   "execution_count": 13,
   "metadata": {},
   "outputs": [],
   "source": [
    "video = cv.VideoCapture(0)  # CREATING OBJECT TO CAPTURE LIVE VIDEO  (0 = DEFAULT CAMERA , 1 = EXTERNAL CAMERA)"
   ]
  },
  {
   "cell_type": "markdown",
   "metadata": {},
   "source": [
    "### FACE AND EYE DETECTION PROCESS"
   ]
  },
  {
   "cell_type": "code",
   "execution_count": 14,
   "metadata": {
    "scrolled": true
   },
   "outputs": [],
   "source": [
    "while(video.isOpened()):  # CHECKING IF CAMERA IS WORKING\n",
    "    \n",
    "    check , frame = video.read()  # CREATING FRAME OBJECT\n",
    "    \n",
    "    if(check):  # CHECKING IF IMAGE IS ACCESSED\n",
    "        \n",
    "        frame = cv.flip(frame,1)  # TO GET RID OF MIRROR EFFECT\n",
    "        \n",
    "        # **DETECTING FACE**\n",
    "        faces = cascade.detectMultiScale(frame, 1.92, 2) \n",
    "        \n",
    "        for (x, y, w, h) in faces:\n",
    "            \n",
    "            cv.rectangle(frame, (x, y), (x+w, y+h), (0, 0, 255), 2)  # PUTTING RECTANGLE AROUND FACE\n",
    "            \n",
    "            org = (x+10, y-10) # POSITION OF TEXT ON RECTANGLE\n",
    "            \n",
    "            font = cv.FONT_HERSHEY_SIMPLEX  # CHOOSING FONT\n",
    "            \n",
    "            fontScale = 1  # FONT SIZE\n",
    "            \n",
    "            frame = cv.putText(frame, 'Face', org, font, fontScale, (255,0,0), 2, cv.LINE_AA)  # PUTTING TEXT ON RECTANGLE\n",
    "            \n",
    "            # NOTE: \" DETECTING EYE IN THE LOOP OF FACES BECAUSE SEARCHING FOR EYE OUTSIDE OF FACE WOULD BE WEIRD \"\n",
    "            \n",
    "            roi_color = frame[y:y+h, x:x+w]  # CHOOSING REGION OF EYE DETECTION\n",
    "            \n",
    "            # **DETECTING EYE**\n",
    "            eyes = eye_cascade.detectMultiScale(roi_color,1.15,8)  \n",
    "            for (ex,ey,ew,eh) in eyes:\n",
    "                \n",
    "                cv.circle(roi_color,(ex+15,ey+15),21,(0,255,0),2)  # PUTTING CIRCLE AROUND EYE\n",
    "                \n",
    "                roi_color = cv.putText(roi_color, 'Eye', (ex+3,ey-10), cv.FONT_HERSHEY_PLAIN, 1, (55,200,0), 2)\n",
    "        \n",
    "        cv.imshow(\"capt\",frame) # DISPLAYING IMAGE\n",
    "        key = cv.waitKey(1)\n",
    "    \n",
    "    else:\n",
    "        break  # BREAKING LOOP IF IMAGE IS NOT ACCESSED\n",
    "        \n",
    "        \n",
    "    if(key & 0xFF == ord('q')):  # STOP DISPLAYING WHHEN 'q' IS PRESSED\n",
    "        break\n",
    "    \n",
    "video.release()  # FREE THE VIDEO OBJECT\n",
    "\n",
    "cv.destroyAllWindows()  # CLOSING ALL OPENED WINDOWS"
   ]
  },
  {
   "cell_type": "markdown",
   "metadata": {},
   "source": [
    "### REFERENCE"
   ]
  },
  {
   "cell_type": "markdown",
   "metadata": {},
   "source": [
    "###  https://github.com/opencv/opencv/tree/master/data/haarcascades "
   ]
  },
  {
   "cell_type": "markdown",
   "metadata": {},
   "source": [
    "## Created by : Divyansh Tiwari\n",
    "### United College of Engineering and Research, Allahabad"
   ]
  },
  {
   "cell_type": "code",
   "execution_count": null,
   "metadata": {},
   "outputs": [],
   "source": []
  }
 ],
 "metadata": {
  "kernelspec": {
   "display_name": "Python 3",
   "language": "python",
   "name": "python3"
  },
  "language_info": {
   "codemirror_mode": {
    "name": "ipython",
    "version": 3
   },
   "file_extension": ".py",
   "mimetype": "text/x-python",
   "name": "python",
   "nbconvert_exporter": "python",
   "pygments_lexer": "ipython3",
   "version": "3.7.6"
  }
 },
 "nbformat": 4,
 "nbformat_minor": 4
}
